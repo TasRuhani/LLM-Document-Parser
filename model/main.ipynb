{
 "cells": [
  {
   "cell_type": "code",
   "execution_count": null,
   "id": "7c407b0b",
   "metadata": {},
   "outputs": [
    {
     "name": "stderr",
     "output_type": "stream",
     "text": [
      "/home/taz/Programming/Machine Learning/HackRx/venv/lib/python3.12/site-packages/tqdm/auto.py:21: TqdmWarning: IProgress not found. Please update jupyter and ipywidgets. See https://ipywidgets.readthedocs.io/en/stable/user_install.html\n",
      "  from .autonotebook import tqdm as notebook_tqdm\n",
      "\u001b[34m\u001b[1mwandb\u001b[0m: \u001b[33mWARNING\u001b[0m If you're specifying your api key in code, ensure this code is not shared publicly.\n",
      "\u001b[34m\u001b[1mwandb\u001b[0m: \u001b[33mWARNING\u001b[0m Consider setting the WANDB_API_KEY environment variable, or running `wandb login` from the command line.\n",
      "\u001b[34m\u001b[1mwandb\u001b[0m: Appending key for api.wandb.ai to your netrc file: /home/taz/.netrc\n",
      "\u001b[34m\u001b[1mwandb\u001b[0m: Currently logged in as: \u001b[33mtasdeequerockz\u001b[0m (\u001b[33mtaz-jec\u001b[0m) to \u001b[32mhttps://api.wandb.ai\u001b[0m. Use \u001b[1m`wandb login --relogin`\u001b[0m to force relogin\n"
     ]
    },
    {
     "data": {
      "text/plain": [
       "True"
      ]
     },
     "execution_count": 1,
     "metadata": {},
     "output_type": "execute_result"
    }
   ],
   "source": [
    "# 1. Imports\n",
    "import json\n",
    "import wandb\n",
    "import torch\n",
    "import numpy as np\n",
    "from transformers import AutoTokenizer, AutoModelForSequenceClassification, Trainer, TrainingArguments, EarlyStoppingCallback\n",
    "from sklearn.model_selection import train_test_split\n",
    "from sklearn.preprocessing import LabelEncoder\n",
    "from datasets import Dataset, DatasetDict\n",
    "from evaluate import load as load_metric\n",
    "from typing import Dict, List\n",
    "\n",
    "# 🧠 Enable W&B\n",
    "wandb.login(key=\"\") #login and add your key"
   ]
  },
  {
   "cell_type": "code",
   "execution_count": null,
   "id": "0b6b389f",
   "metadata": {},
   "outputs": [],
   "source": [
    "# 2. Load CUAD data\n",
    "with open(\"CUAD_v1/CUAD_v1.json\") as f:\n",
    "    raw = json.load(f)"
   ]
  },
  {
   "cell_type": "code",
   "execution_count": null,
   "id": "5c7da5a9",
   "metadata": {},
   "outputs": [],
   "source": [
    "# 3. Prepare data list\n",
    "data = []\n",
    "for doc in raw[\"data\"]:\n",
    "    for para in doc[\"paragraphs\"]:\n",
    "        context = para[\"context\"]\n",
    "        for qa in para[\"qas\"]:\n",
    "            label = qa[\"question\"]\n",
    "            # We only care about answers that are present\n",
    "            if not qa['is_impossible']:\n",
    "                for answer in qa[\"answers\"]:\n",
    "                    data.append({\n",
    "                        \"clause\": answer[\"text\"],  # The extracted clause span\n",
    "                        \"context\": context,      # The full paragraph/context\n",
    "                        \"label\": label\n",
    "                    })"
   ]
  },
  {
   "cell_type": "code",
   "execution_count": null,
   "id": "ec900eb1",
   "metadata": {},
   "outputs": [],
   "source": [
    "# 4. Encode labels\n",
    "le = LabelEncoder()\n",
    "clauses = [d[\"clause\"] for d in data]\n",
    "contexts = [d[\"context\"] for d in data]\n",
    "labels = le.fit_transform([d[\"label\"] for d in data])\n",
    "label2id = {l: int(i) for i, l in enumerate(le.classes_)}\n",
    "id2label = {int(i): l for i, l in enumerate(le.classes_)}"
   ]
  },
  {
   "cell_type": "code",
   "execution_count": null,
   "id": "d908be91",
   "metadata": {
    "changed": true
   },
   "outputs": [],
   "source": [
    "# 5. Stratified split (including context)\n",
    "train_clauses, val_clauses, train_contexts, val_contexts, y_train, y_val = train_test_split(\n",
    "    clauses, contexts, labels, test_size=0.2, stratify=labels, random_state=42\n",
    ")"
   ]
  },
  {
   "cell_type": "code",
   "execution_count": null,
   "id": "3508a9bb",
   "metadata": {
    "changed": true
   },
   "outputs": [],
   "source": [
    "# 6. Convert to HuggingFace datasets\n",
    "train_texts = [f\"{clause} [SEP] {context}\" for clause, context in zip(train_clauses, train_contexts)]\n",
    "val_texts = [f\"{clause} [SEP] {context}\" for clause, context in zip(val_clauses, val_contexts)]\n",
    "\n",
    "train_dataset = Dataset.from_dict({\"text\": train_texts, \"label\": y_train})\n",
    "val_dataset = Dataset.from_dict({\"text\": val_texts, \"label\": y_val})\n",
    "dataset = DatasetDict({\"train\": train_dataset, \"validation\": val_dataset})"
   ]
  },
  {
   "cell_type": "code",
   "execution_count": null,
   "id": "5c1d0605",
   "metadata": {
    "changed": true
   },
   "outputs": [
    {
     "name": "stderr",
     "output_type": "stream",
     "text": [
      "Map: 100%|██████████| 11058/11058 [01:55<00:00, 95.84 examples/s] \n",
      "Map: 100%|██████████| 2765/2765 [00:27<00:00, 100.90 examples/s]\n"
     ]
    }
   ],
   "source": [
    "# 7. Load tokenizer\n",
    "tokenizer = AutoTokenizer.from_pretrained(\"./legal-bert\")\n",
    "\n",
    "def preprocess(examples):\n",
    "    return tokenizer(examples[\"text\"], truncation=True, padding=\"max_length\", max_length=512)\n",
    "\n",
    "encoded_dataset = dataset.map(preprocess, batched=True)"
   ]
  },
  {
   "cell_type": "code",
   "execution_count": null,
   "id": "66420438",
   "metadata": {},
   "outputs": [],
   "source": [
    "# 8. Load model\n",
    "model = AutoModelForSequenceClassification.from_pretrained(\n",
    "    \"./legal-bert\",\n",
    "    num_labels=len(label2id),\n",
    "    id2label=id2label,\n",
    "    label2id=label2id\n",
    ")"
   ]
  },
  {
   "cell_type": "code",
   "execution_count": null,
   "id": "24f4195e",
   "metadata": {},
   "outputs": [],
   "source": [
    "# 9. Metrics\n",
    "metric = load_metric(\"f1\")\n",
    "\n",
    "def compute_metrics(p):\n",
    "    preds = np.argmax(p.predictions, axis=1)\n",
    "    return {\n",
    "        \"accuracy\": (preds == p.label_ids).mean(),\n",
    "        \"f1\": metric.compute(predictions=preds, references=p.label_ids, average=\"macro\")[\"f1\"]\n",
    "    }"
   ]
  },
  {
   "cell_type": "code",
   "execution_count": null,
   "id": "9d4b57ca",
   "metadata": {
    "changed": true
   },
   "outputs": [],
   "source": [
    "# 10. Training config\n",
    "# Early stopping is enabled, so it will stop automatically if it stops improving.\n",
    "args = TrainingArguments(\n",
    "    output_dir=\"./results\",\n",
    "    eval_strategy=\"epoch\",\n",
    "    save_strategy=\"epoch\",\n",
    "    learning_rate=2e-5,\n",
    "    per_device_train_batch_size=8, # Adjust this based on your GPU memory\n",
    "    per_device_eval_batch_size=8,  # Adjust this based on your GPU memory\n",
    "    num_train_epochs=10,\n",
    "    weight_decay=0.01,\n",
    "    load_best_model_at_end=True,\n",
    "    metric_for_best_model=\"f1\", # We can also use f1 score to select the best model\n",
    "    report_to=\"wandb\",\n",
    "    run_name=\"legal-bert-cuad-context\"\n",
    ")"
   ]
  },
  {
   "cell_type": "code",
   "execution_count": null,
   "id": "9c4e2052",
   "metadata": {},
   "outputs": [
    {
     "name": "stderr",
     "output_type": "stream",
     "text": [
      "/tmp/ipykernel_3042/3520098824.py:2: FutureWarning: `tokenizer` is deprecated and will be removed in version 5.0.0 for `Trainer.__init__`. Use `processing_class` instead.\n",
      "  trainer = Trainer(\n"
     ]
    }
   ],
   "source": [
    "# 11. Trainer\n",
    "trainer = Trainer(\n",
    "    model=model,\n",
    "    args=args,\n",
    "    train_dataset=encoded_dataset[\"train\"],\n",
    "    eval_dataset=encoded_dataset[\"validation\"],\n",
    "    tokenizer=tokenizer,\n",
    "    compute_metrics=compute_metrics,\n",
    "    callbacks=[EarlyStoppingCallback(early_stopping_patience=3)]\n",
    ")"
   ]
  },
  {
   "cell_type": "code",
   "execution_count": null,
   "id": "47583127",
   "metadata": {},
   "outputs": [
    {
     "data": {
      "text/html": [
       "creating run (0.0s)"
      ],
      "text/plain": [
       "<IPython.core.display.HTML object>"
      ]
     },
     "metadata": {},
     "output_type": "display_data"
    },
    {
     "data": {
      "text/html": [
       "Tracking run with wandb version 0.21.0"
      ],
      "text/plain": [
       "<IPython.core.display.HTML object>"
      ]
     },
     "metadata": {},
     "output_type": "display_data"
    },
    {
     "data": {
      "text/html": [
       "Run data is saved locally in <code>/home/taz/Programming/Machine Learning/HackRx/model/wandb/run-20250731_044016-slptfdxx</code>"
      ],
      "text/plain": [
       "<IPython.core.display.HTML object>"
      ]
     },
     "metadata": {},
     "output_type": "display_data"
    },
    {
     "data": {
      "text/html": [
       "Syncing run <strong><a href='https://wandb.ai/taz-jec/huggingface/runs/slptfdxx' target=\"_blank\">legal-bert-cuad-context</a></strong> to <a href='https://wandb.ai/taz-jec/huggingface' target=\"_blank\">Weights & Biases</a> (<a href='https://wandb.me/developer-guide' target=\"_blank\">docs</a>)<br>"
      ],
      "text/plain": [
       "<IPython.core.display.HTML object>"
      ]
     },
     "metadata": {},
     "output_type": "display_data"
    },
    {
     "data": {
      "text/html": [
       " View project at <a href='https://wandb.ai/taz-jec/huggingface' target=\"_blank\">https://wandb.ai/taz-jec/huggingface</a>"
      ],
      "text/plain": [
       "<IPython.core.display.HTML object>"
      ]
     },
     "metadata": {},
     "output_type": "display_data"
    },
    {
     "data": {
      "text/html": [
       " View run at <a href='https://wandb.ai/taz-jec/huggingface/runs/slptfdxx' target=\"_blank\">https://wandb.ai/taz-jec/huggingface/runs/slptfdxx</a>"
      ],
      "text/plain": [
       "<IPython.core.display.HTML object>"
      ]
     },
     "metadata": {},
     "output_type": "display_data"
    },
    {
     "name": "stderr",
     "output_type": "stream",
     "text": [
      "/home/taz/Programming/Machine Learning/HackRx/venv/lib/python3.12/site-packages/torch/nn/modules/module.py:1762: FutureWarning: `encoder_attention_mask` is deprecated and will be removed in version 4.55.0 for `BertSdpaSelfAttention.forward`.\n",
      "  return forward_call(*args, **kwargs)\n"
     ]
    },
    {
     "data": {
      "text/html": [
       "\n",
       "    <div>\n",
       "      \n",
       "      <progress value='13830' max='13830' style='width:300px; height:20px; vertical-align: middle;'></progress>\n",
       "      [13830/13830 3:14:41, Epoch 10/10]\n",
       "    </div>\n",
       "    <table border=\"1\" class=\"dataframe\">\n",
       "  <thead>\n",
       " <tr style=\"text-align: left;\">\n",
       "      <th>Epoch</th>\n",
       "      <th>Training Loss</th>\n",
       "      <th>Validation Loss</th>\n",
       "      <th>Accuracy</th>\n",
       "      <th>F1</th>\n",
       "    </tr>\n",
       "  </thead>\n",
       "  <tbody>\n",
       "    <tr>\n",
       "      <td>1</td>\n",
       "      <td>1.079800</td>\n",
       "      <td>0.788390</td>\n",
       "      <td>0.774684</td>\n",
       "      <td>0.528229</td>\n",
       "    </tr>\n",
       "    <tr>\n",
       "      <td>2</td>\n",
       "      <td>0.651400</td>\n",
       "      <td>0.668297</td>\n",
       "      <td>0.790235</td>\n",
       "      <td>0.628281</td>\n",
       "    </tr>\n",
       "    <tr>\n",
       "      <td>3</td>\n",
       "      <td>0.481000</td>\n",
       "      <td>0.682774</td>\n",
       "      <td>0.790958</td>\n",
       "      <td>0.644061</td>\n",
       "    </tr>\n",
       "    <tr>\n",
       "      <td>4</td>\n",
       "      <td>0.399700</td>\n",
       "      <td>0.719216</td>\n",
       "      <td>0.788427</td>\n",
       "      <td>0.668365</td>\n",
       "    </tr>\n",
       "    <tr>\n",
       "      <td>5</td>\n",
       "      <td>0.384400</td>\n",
       "      <td>0.752847</td>\n",
       "      <td>0.782640</td>\n",
       "      <td>0.658992</td>\n",
       "    </tr>\n",
       "    <tr>\n",
       "      <td>6</td>\n",
       "      <td>0.348000</td>\n",
       "      <td>0.823402</td>\n",
       "      <td>0.776130</td>\n",
       "      <td>0.663802</td>\n",
       "    </tr>\n",
       "    <tr>\n",
       "      <td>7</td>\n",
       "      <td>0.328400</td>\n",
       "      <td>0.830047</td>\n",
       "      <td>0.765642</td>\n",
       "      <td>0.668409</td>\n",
       "    </tr>\n",
       "    <tr>\n",
       "      <td>8</td>\n",
       "      <td>0.290600</td>\n",
       "      <td>0.850905</td>\n",
       "      <td>0.765280</td>\n",
       "      <td>0.664612</td>\n",
       "    </tr>\n",
       "    <tr>\n",
       "      <td>9</td>\n",
       "      <td>0.261200</td>\n",
       "      <td>0.889018</td>\n",
       "      <td>0.760579</td>\n",
       "      <td>0.657742</td>\n",
       "    </tr>\n",
       "    <tr>\n",
       "      <td>10</td>\n",
       "      <td>0.228700</td>\n",
       "      <td>0.896487</td>\n",
       "      <td>0.751537</td>\n",
       "      <td>0.651633</td>\n",
       "    </tr>\n",
       "  </tbody>\n",
       "</table><p>"
      ],
      "text/plain": [
       "<IPython.core.display.HTML object>"
      ]
     },
     "metadata": {},
     "output_type": "display_data"
    },
    {
     "name": "stderr",
     "output_type": "stream",
     "text": [
      "/home/taz/Programming/Machine Learning/HackRx/venv/lib/python3.12/site-packages/torch/nn/modules/module.py:1762: FutureWarning: `encoder_attention_mask` is deprecated and will be removed in version 4.55.0 for `BertSdpaSelfAttention.forward`.\n",
      "  return forward_call(*args, **kwargs)\n",
      "/home/taz/Programming/Machine Learning/HackRx/venv/lib/python3.12/site-packages/torch/nn/modules/module.py:1762: FutureWarning: `encoder_attention_mask` is deprecated and will be removed in version 4.55.0 for `BertSdpaSelfAttention.forward`.\n",
      "  return forward_call(*args, **kwargs)\n",
      "/home/taz/Programming/Machine Learning/HackRx/venv/lib/python3.12/site-packages/torch/nn/modules/module.py:1762: FutureWarning: `encoder_attention_mask` is deprecated and will be removed in version 4.55.0 for `BertSdpaSelfAttention.forward`.\n",
      "  return forward_call(*args, **kwargs)\n",
      "/home/taz/Programming/Machine Learning/HackRx/venv/lib/python3.12/site-packages/torch/nn/modules/module.py:1762: FutureWarning: `encoder_attention_mask` is deprecated and will be removed in version 4.55.0 for `BertSdpaSelfAttention.forward`.\n",
      "  return forward_call(*args, **kwargs)\n",
      "/home/taz/Programming/Machine Learning/HackRx/venv/lib/python3.12/site-packages/torch/nn/modules/module.py:1762: FutureWarning: `encoder_attention_mask` is deprecated and will be removed in version 4.55.0 for `BertSdpaSelfAttention.forward`.\n",
      "  return forward_call(*args, **kwargs)\n",
      "/home/taz/Programming/Machine Learning/HackRx/venv/lib/python3.12/site-packages/torch/nn/modules/module.py:1762: FutureWarning: `encoder_attention_mask` is deprecated and will be removed in version 4.55.0 for `BertSdpaSelfAttention.forward`.\n",
      "  return forward_call(*args, **kwargs)\n",
      "/home/taz/Programming/Machine Learning/HackRx/venv/lib/python3.12/site-packages/torch/nn/modules/module.py:1762: FutureWarning: `encoder_attention_mask` is deprecated and will be removed in version 4.55.0 for `BertSdpaSelfAttention.forward`.\n",
      "  return forward_call(*args, **kwargs)\n",
      "/home/taz/Programming/Machine Learning/HackRx/venv/lib/python3.12/site-packages/torch/nn/modules/module.py:1762: FutureWarning: `encoder_attention_mask` is deprecated and will be removed in version 4.55.0 for `BertSdpaSelfAttention.forward`.\n",
      "  return forward_call(*args, **kwargs)\n",
      "/home/taz/Programming/Machine Learning/HackRx/venv/lib/python3.12/site-packages/torch/nn/modules/module.py:1762: FutureWarning: `encoder_attention_mask` is deprecated and will be removed in version 4.55.0 for `BertSdpaSelfAttention.forward`.\n",
      "  return forward_call(*args, **kwargs)\n"
     ]
    },
    {
     "data": {
      "text/plain": [
       "TrainOutput(global_step=13830, training_loss=0.480028378368717, metrics={'train_runtime': 11827.2607, 'train_samples_per_second': 9.35, 'train_steps_per_second': 1.169, 'total_flos': 2.910500849719296e+16, 'train_loss': 0.480028378368717, 'epoch': 10.0})"
      ]
     },
     "execution_count": 12,
     "metadata": {},
     "output_type": "execute_result"
    }
   ],
   "source": [
    "# 12. Train\n",
    "trainer.train()"
   ]
  },
  {
   "cell_type": "code",
   "execution_count": null,
   "id": "0988876b",
   "metadata": {},
   "outputs": [
    {
     "ename": "NameError",
     "evalue": "name 'id2label' is not defined",
     "output_type": "error",
     "traceback": [
      "\u001b[31m---------------------------------------------------------------------------\u001b[39m",
      "\u001b[31mNameError\u001b[39m                                 Traceback (most recent call last)",
      "\u001b[36mCell\u001b[39m\u001b[36m \u001b[39m\u001b[32mIn[1]\u001b[39m\u001b[32m, line 2\u001b[39m\n\u001b[32m      1\u001b[39m \u001b[38;5;66;03m# 💾 13. Save\u001b[39;00m\n\u001b[32m----> \u001b[39m\u001b[32m2\u001b[39m model.config.id2label = \u001b[43mid2label\u001b[49m\n\u001b[32m      3\u001b[39m model.config.label2id = label2id\n\u001b[32m      4\u001b[39m trainer.save_model(\u001b[33m\"\u001b[39m\u001b[33m./legal-bert-finetuned-context\u001b[39m\u001b[33m\"\u001b[39m)\n",
      "\u001b[31mNameError\u001b[39m: name 'id2label' is not defined"
     ]
    }
   ],
   "source": [
    "# 💾 13. Save\n",
    "model.config.id2label = id2label\n",
    "model.config.label2id = label2id\n",
    "trainer.save_model(\"./legal-bert-finetuned\")\n",
    "tokenizer.save_pretrained(\"./legal-bert-finetuned\")\n"
   ]
  }
 ],
 "metadata": {
  "kernelspec": {
   "display_name": "venv",
   "language": "python",
   "name": "python3"
  },
  "language_info": {
   "codemirror_mode": {
    "name": "ipython",
    "version": 3
   },
   "file_extension": ".py",
   "mimetype": "text/x-python",
   "name": "python",
   "nbconvert_exporter": "python",
   "pygments_lexer": "ipython3",
   "version": "3.12.3"
  }
 },
 "nbformat": 4,
 "nbformat_minor": 5
}
